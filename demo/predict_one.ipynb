{
 "cells": [
  {
   "cell_type": "code",
   "execution_count": 5,
   "metadata": {},
   "outputs": [
    {
     "name": "stdout",
     "output_type": "stream",
     "text": [
      "DataBatch(x=[8, 1], edge_index=[2, 6], batch=[8], ptr=[3])\n",
      "ptr: tensor([0, 3, 8])\n",
      "DataBatch(x=[2, 1], edge_index=[2, 1], batch=[2], ptr=[2])\n",
      "ptr: tensor([0, 2])\n"
     ]
    },
    {
     "name": "stderr",
     "output_type": "stream",
     "text": [
      "/home/alon/anaconda3/envs/QCNet/lib/python3.8/site-packages/torch_geometric/deprecation.py:22: UserWarning: 'data.DataLoader' is deprecated, use 'loader.DataLoader' instead\n",
      "  warnings.warn(out)\n"
     ]
    }
   ],
   "source": [
    "import torch\n",
    "from torch_geometric.data import Data, DataLoader\n",
    "\n",
    "# 创建一些示例图\n",
    "data1 = Data(x=torch.tensor([[1], [2], [3]]), edge_index=torch.tensor([[0, 1], [1, 2]], dtype=torch.long).t().contiguous())\n",
    "data2 = Data(x=torch.tensor([[4], [5], [6], [7], [8]]), edge_index=torch.tensor([[0, 1], [1, 2], [2, 3], [3, 4]], dtype=torch.long).t().contiguous())\n",
    "data3 = Data(x=torch.tensor([[9], [10]]), edge_index=torch.tensor([[0, 1]], dtype=torch.long).t().contiguous())\n",
    "\n",
    "# 创建 DataLoader\n",
    "loader = DataLoader([data1, data2, data3], batch_size=2, shuffle=False)\n",
    "\n",
    "for batch in loader:\n",
    "    print(batch)\n",
    "    print(\"ptr:\", batch.ptr)\n"
   ]
  }
 ],
 "metadata": {
  "kernelspec": {
   "display_name": "QCNet",
   "language": "python",
   "name": "python3"
  },
  "language_info": {
   "codemirror_mode": {
    "name": "ipython",
    "version": 3
   },
   "file_extension": ".py",
   "mimetype": "text/x-python",
   "name": "python",
   "nbconvert_exporter": "python",
   "pygments_lexer": "ipython3",
   "version": "3.8.20"
  }
 },
 "nbformat": 4,
 "nbformat_minor": 2
}
